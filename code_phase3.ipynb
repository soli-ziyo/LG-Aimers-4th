{
  "cells": [
    {
      "cell_type": "markdown",
      "metadata": {
        "id": "ZAiNR6J77lHz"
      },
      "source": [
        "# Simple is Best 팀  \n",
        "### 오혁준 최고운 박연재 김민솔 김영찬"
      ]
    },
    {
      "cell_type": "markdown",
      "metadata": {
        "id": "sHkWZQeLuE70"
      },
      "source": [
        "# 필요한 라이브러리 다운로드"
      ]
    },
    {
      "cell_type": "code",
      "execution_count": 1,
      "metadata": {
        "scrolled": true,
        "colab": {
          "base_uri": "https://localhost:8080/"
        },
        "id": "pYnPqYZC7lH1",
        "outputId": "dec02bfa-d257-4c88-97ac-cea15d7cacdf"
      },
      "outputs": [
        {
          "output_type": "stream",
          "name": "stdout",
          "text": [
            "Requirement already satisfied: pandas==2.2.0 in /usr/local/lib/python3.10/dist-packages (2.2.0)\n",
            "Requirement already satisfied: numpy==1.25.2 in /usr/local/lib/python3.10/dist-packages (1.25.2)\n",
            "Requirement already satisfied: lightgbm==4.1.0 in /usr/local/lib/python3.10/dist-packages (4.1.0)\n",
            "Requirement already satisfied: seaborn==0.13.1 in /usr/local/lib/python3.10/dist-packages (0.13.1)\n",
            "Requirement already satisfied: pycountry==20.7.3 in /usr/local/lib/python3.10/dist-packages (20.7.3)\n",
            "Requirement already satisfied: catboost==1.2.2 in /usr/local/lib/python3.10/dist-packages (1.2.2)\n",
            "Requirement already satisfied: optuna==3.5.0 in /usr/local/lib/python3.10/dist-packages (3.5.0)\n",
            "Requirement already satisfied: scikit-learn==1.2.2 in /usr/local/lib/python3.10/dist-packages (1.2.2)\n",
            "Requirement already satisfied: gensim==4.3.2 in /usr/local/lib/python3.10/dist-packages (4.3.2)\n",
            "Requirement already satisfied: nbformat in /usr/local/lib/python3.10/dist-packages (5.10.4)\n",
            "Requirement already satisfied: plotly in /usr/local/lib/python3.10/dist-packages (5.22.0)\n",
            "Requirement already satisfied: python-dateutil>=2.8.2 in /usr/local/lib/python3.10/dist-packages (from pandas==2.2.0) (2.8.2)\n",
            "Requirement already satisfied: pytz>=2020.1 in /usr/local/lib/python3.10/dist-packages (from pandas==2.2.0) (2023.4)\n",
            "Requirement already satisfied: tzdata>=2022.7 in /usr/local/lib/python3.10/dist-packages (from pandas==2.2.0) (2024.1)\n",
            "Requirement already satisfied: scipy in /usr/local/lib/python3.10/dist-packages (from lightgbm==4.1.0) (1.11.4)\n",
            "Requirement already satisfied: matplotlib!=3.6.1,>=3.4 in /usr/local/lib/python3.10/dist-packages (from seaborn==0.13.1) (3.7.1)\n",
            "Requirement already satisfied: graphviz in /usr/local/lib/python3.10/dist-packages (from catboost==1.2.2) (0.20.3)\n",
            "Requirement already satisfied: six in /usr/local/lib/python3.10/dist-packages (from catboost==1.2.2) (1.16.0)\n",
            "Requirement already satisfied: alembic>=1.5.0 in /usr/local/lib/python3.10/dist-packages (from optuna==3.5.0) (1.13.1)\n",
            "Requirement already satisfied: colorlog in /usr/local/lib/python3.10/dist-packages (from optuna==3.5.0) (6.8.2)\n",
            "Requirement already satisfied: packaging>=20.0 in /usr/local/lib/python3.10/dist-packages (from optuna==3.5.0) (24.1)\n",
            "Requirement already satisfied: sqlalchemy>=1.3.0 in /usr/local/lib/python3.10/dist-packages (from optuna==3.5.0) (2.0.30)\n",
            "Requirement already satisfied: tqdm in /usr/local/lib/python3.10/dist-packages (from optuna==3.5.0) (4.66.4)\n",
            "Requirement already satisfied: PyYAML in /usr/local/lib/python3.10/dist-packages (from optuna==3.5.0) (6.0.1)\n",
            "Requirement already satisfied: joblib>=1.1.1 in /usr/local/lib/python3.10/dist-packages (from scikit-learn==1.2.2) (1.4.2)\n",
            "Requirement already satisfied: threadpoolctl>=2.0.0 in /usr/local/lib/python3.10/dist-packages (from scikit-learn==1.2.2) (3.5.0)\n",
            "Requirement already satisfied: smart-open>=1.8.1 in /usr/local/lib/python3.10/dist-packages (from gensim==4.3.2) (7.0.4)\n",
            "Requirement already satisfied: fastjsonschema>=2.15 in /usr/local/lib/python3.10/dist-packages (from nbformat) (2.20.0)\n",
            "Requirement already satisfied: jsonschema>=2.6 in /usr/local/lib/python3.10/dist-packages (from nbformat) (4.19.2)\n",
            "Requirement already satisfied: jupyter-core!=5.0.*,>=4.12 in /usr/local/lib/python3.10/dist-packages (from nbformat) (5.7.2)\n",
            "Requirement already satisfied: traitlets>=5.1 in /usr/local/lib/python3.10/dist-packages (from nbformat) (5.7.1)\n",
            "Requirement already satisfied: tenacity>=6.2.0 in /usr/local/lib/python3.10/dist-packages (from plotly) (8.4.1)\n",
            "Requirement already satisfied: Mako in /usr/local/lib/python3.10/dist-packages (from alembic>=1.5.0->optuna==3.5.0) (1.3.5)\n",
            "Requirement already satisfied: typing-extensions>=4 in /usr/local/lib/python3.10/dist-packages (from alembic>=1.5.0->optuna==3.5.0) (4.12.2)\n",
            "Requirement already satisfied: attrs>=22.2.0 in /usr/local/lib/python3.10/dist-packages (from jsonschema>=2.6->nbformat) (23.2.0)\n",
            "Requirement already satisfied: jsonschema-specifications>=2023.03.6 in /usr/local/lib/python3.10/dist-packages (from jsonschema>=2.6->nbformat) (2023.12.1)\n",
            "Requirement already satisfied: referencing>=0.28.4 in /usr/local/lib/python3.10/dist-packages (from jsonschema>=2.6->nbformat) (0.35.1)\n",
            "Requirement already satisfied: rpds-py>=0.7.1 in /usr/local/lib/python3.10/dist-packages (from jsonschema>=2.6->nbformat) (0.18.1)\n",
            "Requirement already satisfied: platformdirs>=2.5 in /usr/local/lib/python3.10/dist-packages (from jupyter-core!=5.0.*,>=4.12->nbformat) (4.2.2)\n",
            "Requirement already satisfied: contourpy>=1.0.1 in /usr/local/lib/python3.10/dist-packages (from matplotlib!=3.6.1,>=3.4->seaborn==0.13.1) (1.2.1)\n",
            "Requirement already satisfied: cycler>=0.10 in /usr/local/lib/python3.10/dist-packages (from matplotlib!=3.6.1,>=3.4->seaborn==0.13.1) (0.12.1)\n",
            "Requirement already satisfied: fonttools>=4.22.0 in /usr/local/lib/python3.10/dist-packages (from matplotlib!=3.6.1,>=3.4->seaborn==0.13.1) (4.53.0)\n",
            "Requirement already satisfied: kiwisolver>=1.0.1 in /usr/local/lib/python3.10/dist-packages (from matplotlib!=3.6.1,>=3.4->seaborn==0.13.1) (1.4.5)\n",
            "Requirement already satisfied: pillow>=6.2.0 in /usr/local/lib/python3.10/dist-packages (from matplotlib!=3.6.1,>=3.4->seaborn==0.13.1) (9.4.0)\n",
            "Requirement already satisfied: pyparsing>=2.3.1 in /usr/local/lib/python3.10/dist-packages (from matplotlib!=3.6.1,>=3.4->seaborn==0.13.1) (3.1.2)\n",
            "Requirement already satisfied: wrapt in /usr/local/lib/python3.10/dist-packages (from smart-open>=1.8.1->gensim==4.3.2) (1.14.1)\n",
            "Requirement already satisfied: greenlet!=0.4.17 in /usr/local/lib/python3.10/dist-packages (from sqlalchemy>=1.3.0->optuna==3.5.0) (3.0.3)\n",
            "Requirement already satisfied: MarkupSafe>=0.9.2 in /usr/local/lib/python3.10/dist-packages (from Mako->alembic>=1.5.0->optuna==3.5.0) (2.1.5)\n"
          ]
        }
      ],
      "source": [
        "%pip install pandas==2.2.0 numpy==1.25.2 lightgbm==4.1.0 seaborn==0.13.1 pycountry==20.7.3 catboost==1.2.2 optuna==3.5.0 scikit-learn==1.2.2 gensim==4.3.2 nbformat plotly --upgrade"
      ]
    },
    {
      "cell_type": "code",
      "execution_count": 2,
      "metadata": {
        "id": "mfY4D41hshxl"
      },
      "outputs": [],
      "source": [
        "import os, random, sys\n",
        "\n",
        "import pandas as pd\n",
        "import numpy as np\n",
        "from matplotlib import pyplot as plt\n",
        "import seaborn as sns\n",
        "\n",
        "import sklearn\n",
        "from sklearn.model_selection import cross_val_score\n",
        "from sklearn.model_selection import train_test_split, StratifiedKFold\n",
        "from sklearn.utils.class_weight import compute_class_weight\n",
        "from sklearn.cluster import KMeans\n",
        "from sklearn.metrics.pairwise import cosine_similarity\n",
        "from sklearn.metrics import (\n",
        "    accuracy_score,\n",
        "    confusion_matrix,\n",
        "    f1_score,\n",
        "    precision_score,\n",
        "    recall_score,\n",
        ")\n",
        "\n",
        "import lightgbm as lgb\n",
        "from catboost import CatBoostClassifier, Pool\n",
        "\n",
        "\n",
        "import time\n",
        "from gensim.models import FastText\n",
        "import re\n",
        "\n",
        "import warnings\n",
        "warnings.filterwarnings('ignore')\n",
        "import joblib\n",
        "\n",
        "from multiprocessing import Pool\n",
        "from functools import partial\n",
        "\n",
        "import pycountry\n",
        "\n",
        "import optuna\n",
        "from optuna import Trial\n",
        "from optuna.samplers import TPESampler"
      ]
    },
    {
      "cell_type": "code",
      "execution_count": 3,
      "metadata": {
        "colab": {
          "base_uri": "https://localhost:8080/"
        },
        "id": "N8Ray3gs14AN",
        "outputId": "5c10c176-5062-4c88-a504-9aa6499f431b"
      },
      "outputs": [
        {
          "output_type": "stream",
          "name": "stdout",
          "text": [
            "- python: 3.10.12 (main, Nov 20 2023, 15:14:05) [GCC 11.4.0]\n",
            "- pandas: 2.2.0\n",
            "- numpy: 1.25.2\n",
            "- sklearn: 1.2.2\n"
          ]
        }
      ],
      "source": [
        "print(f\"- python: {sys.version}\")\n",
        "print(f\"- pandas: {pd.__version__}\")\n",
        "print(f\"- numpy: {np.__version__}\")\n",
        "print(f\"- sklearn: {sklearn.__version__}\")"
      ]
    },
    {
      "cell_type": "markdown",
      "metadata": {
        "id": "R3LESuAe14AO"
      },
      "source": [
        "# Fix Seed"
      ]
    },
    {
      "cell_type": "code",
      "execution_count": 4,
      "metadata": {
        "id": "ylvHVY9H14AP"
      },
      "outputs": [],
      "source": [
        "# fix seed\n",
        "def seed_everything(seed=0):\n",
        "    random.seed(seed)\n",
        "    os.environ['PYTHONHASHSEED'] = str(seed)\n",
        "    np.random.seed(seed)\n",
        "\n",
        "SEED = 42\n",
        "seed_everything(SEED)"
      ]
    },
    {
      "cell_type": "code",
      "source": [
        "from google.colab import drive\n",
        "drive.mount('/content/drive')"
      ],
      "metadata": {
        "colab": {
          "base_uri": "https://localhost:8080/"
        },
        "id": "sNseAyhABBjz",
        "outputId": "090ce599-6ee2-4f64-a4be-0b84b60eac98"
      },
      "execution_count": 5,
      "outputs": [
        {
          "output_type": "stream",
          "name": "stdout",
          "text": [
            "Drive already mounted at /content/drive; to attempt to forcibly remount, call drive.mount(\"/content/drive\", force_remount=True).\n"
          ]
        }
      ]
    },
    {
      "cell_type": "markdown",
      "metadata": {
        "id": "71Ag909v9s1V"
      },
      "source": [
        "# Dataset Load"
      ]
    },
    {
      "cell_type": "code",
      "execution_count": 6,
      "metadata": {
        "id": "L6sYBpaN9rd0"
      },
      "outputs": [],
      "source": [
        "train = pd.read_csv(\"/content/drive/MyDrive/LG Aimers/train.csv\")\n",
        "test = pd.read_csv(\"/content/drive/MyDrive/LG Aimers/submission.csv\")"
      ]
    },
    {
      "cell_type": "code",
      "execution_count": 7,
      "metadata": {
        "id": "E3zd1WdlSQel"
      },
      "outputs": [],
      "source": [
        "# train 데이터를 train과 valid 데이터로 분할\n",
        "x_train, x_val, y_train, y_val = train_test_split(\n",
        "    train.drop(\"is_converted\", axis=1),\n",
        "    train[\"is_converted\"],\n",
        "    test_size=0.2, # 비율 train : valid = 8 : 2\n",
        "    shuffle=True, # 데이터의 class가 편중되는 것을 방지\n",
        "    random_state=SEED,\n",
        "    stratify = train[\"is_converted\"] # train/valid 데이터의 class 비율을 동일하게\n",
        ")"
      ]
    },
    {
      "cell_type": "markdown",
      "metadata": {
        "id": "3navosah99bl"
      },
      "source": [
        "# Data Preprocessing"
      ]
    },
    {
      "cell_type": "markdown",
      "metadata": {
        "id": "NLsbnPf5uKKx"
      },
      "source": [
        "## product_category, product_subcategory, product_modelname\n",
        "**담당 : 최고운**  \n",
        "  \n",
        "- product_category의 경우 같은 제품군끼리 묶어 범주의 개수를 축소하고자 FastText로 워드 임베딩을 수행한 후 K-means 군집화를 진행했습니다. 이후 군집의 개수 만큼 column을 추가하여 multi-label binarization을 수행했습니다.\n",
        "- product_category, product_subcategory, product_modelname을 값 작성 여부에 따라 0/1로 값을 변경했습니다"
      ]
    },
    {
      "cell_type": "markdown",
      "metadata": {
        "id": "Wg8Nf_9O7lH2"
      },
      "source": [
        "#### Product_category"
      ]
    },
    {
      "cell_type": "code",
      "execution_count": 8,
      "metadata": {
        "id": "OWYiKqLf6vAz",
        "scrolled": true
      },
      "outputs": [],
      "source": [
        "# 워드 임베딩을 위한 데이터 준비\n",
        "\n",
        "# 한 명의 고객이 여러 제품군을 요청하는 경우가 존재하므로, 제품군 각각의 임베딩 벡터를 얻고자 split 수행\n",
        "def split_data(df):\n",
        "  pc_str = \"\"\n",
        "  for elem in df[\"product_category\"].unique():\n",
        "      if not pd.isna(elem):\n",
        "          pc_str += str(elem)+\",\"\n",
        "  splited_values = pd.Series(pc_str.split(\",\")[:-1])\n",
        "\n",
        "  return splited_values\n",
        "\n",
        "# 각 데이터 세트에 대해 split_data 함수 적용\n",
        "train_splited_values = split_data(x_train)\n",
        "val_splited_values = split_data(x_val)\n",
        "test_splited_values = split_data(test)"
      ]
    },
    {
      "cell_type": "code",
      "execution_count": 9,
      "metadata": {
        "id": "_OvdcwtO14AU"
      },
      "outputs": [],
      "source": [
        "# 워드 임베딩 & 군집화 수행\n",
        "\n",
        "# 앞서 나눠 둔 train 데이터에 대해서 FastText 모델과 K-means 모델을 fit하고 모델을 저장\n",
        "def clustering_for_train(train, train_splited_values):\n",
        "    train_values = []\n",
        "    for elem in train_splited_values:\n",
        "        train_values.append([elem])\n",
        "\n",
        "    # 워드 임베딩 모델 학습 및 저장\n",
        "    embedding_model = FastText(train_values, vector_size=100, window=5, min_count=1, workers=4, sg=1, seed=1234)\n",
        "    embedding_model.save(\"ft_product_category\")\n",
        "\n",
        "    # 단어와 대응되는 임베딩 벡터 추출\n",
        "    train_word_vectors = embedding_model.wv\n",
        "    train_words = list(train_word_vectors.key_to_index.keys())\n",
        "    train_vectors = [train_word_vectors[word] for word in train_words]\n",
        "\n",
        "    # 단어들 간의 코사인 유사도 계산\n",
        "    similarity_matrix = cosine_similarity(train_vectors)\n",
        "\n",
        "    # 단어 유사도 행렬을 입력으로 K-means clustering 및 모델 저장\n",
        "    num_clusters = 18  # 클러스터 수 설정 (실루엣, 엘보우 기반)\n",
        "    kmeans = KMeans(n_clusters=num_clusters, random_state=1234)\n",
        "    kmeans_cluster_assignments = kmeans.fit_predict(similarity_matrix)\n",
        "    joblib.dump(kmeans, 'kmeans_clustering_model.pkl')\n",
        "\n",
        "    # multi-label binarization(요청 제품군들이 속하는 클러스터에 대해서 1값을 부여)\n",
        "    # [apple(cluster0), banana(cluster2)] => [1,0,1]\n",
        "    new_train_col = []\n",
        "    for elem in train[\"product_category\"]: # 행마다 속하는 군집 파악\n",
        "        if not pd.isna(elem):\n",
        "            splited = elem.split(\",\")\n",
        "            clu_nums = []\n",
        "            for product in splited:\n",
        "                if product != \"\":\n",
        "                    idx = train_word_vectors.key_to_index[product]\n",
        "                    clu_nums.append(kmeans_cluster_assignments[idx])\n",
        "            new_train_col.append(list(set(clu_nums))) # 같은 군집에 속하는 제품이 2개 이상인 경우 처리\n",
        "        else:\n",
        "            new_train_col.append(np.nan)\n",
        "\n",
        "    # 클러스터 개수만큼 0으로 채워진 컬럼 생성\n",
        "    for i in range(num_clusters):\n",
        "        train[f\"cluster{i}\"] = np.zeros((train[\"product_category\"].shape[0],))\n",
        "\n",
        "    # 행마다 속하는 군집들에 대해 1값을 부여\n",
        "    for idx,elem in enumerate(new_train_col):\n",
        "        if type(elem)!=float: # nan이 아닌 경우에만 처리\n",
        "            for pos in elem:\n",
        "                train[f\"cluster{pos}\"].iloc[idx] = 1\n",
        "\n",
        "    return train, train_vectors, num_clusters\n",
        "\n",
        "# train 세트에 대해 clustering_for_train 함수 적용\n",
        "x_train, train_vectors, num_clusters = clustering_for_train(x_train, train_splited_values)"
      ]
    },
    {
      "cell_type": "code",
      "execution_count": 10,
      "metadata": {
        "id": "crFCKwQt5fV1"
      },
      "outputs": [],
      "source": [
        "# 나눠둔 validation 데이터와 test 데이터에 대해 train 데이터로 학습된 FastText 모델, K-means 모델을 predict\n",
        "def clustering_for_test(test, train_vectors, test_splited_values, num_clusters):\n",
        "  # 학습한 임베딩 모델 load\n",
        "  embedding_model = FastText.load(\"ft_product_category\")\n",
        "\n",
        "  # validation/test에 대해서 임베딩 벡터 생성\n",
        "  test_words = test_splited_values.unique().tolist()\n",
        "  test_vectors = [embedding_model.wv.get_vector(words) for words in test_words]\n",
        "\n",
        "  # train을 기준으로 생성한 클러스터들을 기준으로 validation/test의 데이터가 어떤 클러스터에 속할지 예측(군집예측)\n",
        "  clustering_model = joblib.load('kmeans_clustering_model.pkl')\n",
        "  # train 데이터와의 코사인 유사도 계산\n",
        "  test_similarity_matrix = cosine_similarity(test_vectors, train_vectors)\n",
        "\n",
        "  # 군집 예측 수행\n",
        "  test_kmeans_cluster_assignments = clustering_model.predict(test_similarity_matrix)\n",
        "\n",
        "  # multi-label binarization(요청 제품군들이 속하는 클러스터에 대해서 1값을 부여)\n",
        "  # [apple(cluster0), banana(cluster2)] => [1,0,1]\n",
        "  new_test_col = []\n",
        "  for elem in test[\"product_category\"]: # 행마다 속하는 군집 파악\n",
        "      if not pd.isna(elem):\n",
        "          splited = elem.split(\",\")\n",
        "          clu_nums = []\n",
        "          for product in splited:\n",
        "              if product != \"\":\n",
        "                  idx = test_words.index(product)\n",
        "                  clu_nums.append(test_kmeans_cluster_assignments[idx])\n",
        "          new_test_col.append(list(set(clu_nums))) # 같은 군집에 속하는 제품이 2개 이상인 경우 처리\n",
        "      else:\n",
        "          new_test_col.append(np.nan)\n",
        "\n",
        "  # 클러스터 개수만큼 0으로 채워진 컬럼 생성\n",
        "  for i in range(num_clusters):\n",
        "    test[f\"cluster{i}\"] = np.zeros((test[\"product_category\"].shape[0],))\n",
        "\n",
        "  # 행마다 속하는 군집들에 대해 1값을 부여\n",
        "  for idx,elem in enumerate(new_test_col):\n",
        "    if type(elem)==list: # nan이 아닌 경우에만 처리\n",
        "        for pos in elem:\n",
        "            test[f\"cluster{pos}\"].iloc[idx] = 1\n",
        "\n",
        "  return test\n",
        "\n",
        "# validation, test 세트에 대해 clustering_for_test 함수 적용\n",
        "x_val = clustering_for_test(x_val, train_vectors, val_splited_values, num_clusters)\n",
        "test = clustering_for_test(test, train_vectors, test_splited_values, num_clusters)"
      ]
    },
    {
      "cell_type": "code",
      "execution_count": 11,
      "metadata": {
        "id": "YSC-9fbB6XjB"
      },
      "outputs": [],
      "source": [
        "# product_category, product_subcategory, product_modelname 에 대해 값 작성 여부에 따라 0/1 값을 갖도록 변경\n",
        "def create_derived_var(df):\n",
        "  # 대상 컬럼 리스트\n",
        "  target_cols = [\"product_category\", \"product_subcategory\", \"product_modelname\"]\n",
        "  # 대상 컬럼을 순회하며 처리\n",
        "  for column_name in target_cols:\n",
        "    # 해당 컬럼의 null이 아닌 값은 1로, null인 값은 0으로 변환\n",
        "    df[column_name] = df[column_name].notnull().astype(int)\n",
        "  # 변환된 데이터프레임 반환\n",
        "  return df\n",
        "\n",
        "# 각 데이터 세트에 대해 create_derived_var 함수 적용\n",
        "x_train = create_derived_var(x_train)\n",
        "x_val = create_derived_var(x_val)\n",
        "test = create_derived_var(test)"
      ]
    },
    {
      "cell_type": "markdown",
      "metadata": {
        "id": "pMdoIVLD-Fz_"
      },
      "source": [
        "## ver_cus, ver_pro, ver_win_rate_x, ver_win_ratio_per_bu, business_area, business_subarea\n",
        "**담당 : 김영찬**"
      ]
    },
    {
      "cell_type": "code",
      "execution_count": 12,
      "metadata": {
        "id": "zSjYVKmr-j6I"
      },
      "outputs": [],
      "source": [
        "def fill_na_1(df):\n",
        "  # 'id_strategic_ver' 컬럼: 값이 있으면 'Y', 없으면 'N'으로 설정\n",
        "  df['id_strategic_ver'] = np.where(df['id_strategic_ver'].notnull(), 'Y', 'N')\n",
        "\n",
        "  # 'it_strategic_ver' 컬럼: 값이 있으면 'Y', 없으면 'N'으로 설정\n",
        "  df['it_strategic_ver'] = np.where(df['it_strategic_ver'].notnull(), 'Y', 'N')\n",
        "\n",
        "  # 'business_area', 'business_subarea' 컬럼: 결측치를 'Not Entered'로 채움\n",
        "  df['business_area'] = df['business_area'].fillna('Not Entered')\n",
        "  df['business_subarea'] = df['business_subarea'].fillna('Not Entered')\n",
        "\n",
        "  # 'ver_win_rate_x' 컬럼: 결측치를 해당 컬럼의 중앙값으로 채움\n",
        "  df['ver_win_rate_x'] = df['ver_win_rate_x'].fillna(df['ver_win_rate_x'].median())\n",
        "\n",
        "  # 'ver_win_ratio_per_bu' 컬럼: 'business_unit' 값에 따라 각 그룹의 중앙값으로 결측치를 대체\n",
        "  # 'AS' 비즈니스 유닛의 경우\n",
        "  df[df['business_unit']=='AS']['ver_win_ratio_per_bu'].replace(np.nan, df[df['business_unit']=='AS']['ver_win_ratio_per_bu'].median())\n",
        "  # 'ID' 비즈니스 유닛의 경우\n",
        "  df[df['business_unit']=='ID']['ver_win_ratio_per_bu'].replace(np.nan, df[df['business_unit']=='ID']['ver_win_ratio_per_bu'].median())\n",
        "  # 그 외의 경우, 결측치를 0으로 설정\n",
        "  df['ver_win_ratio_per_bu'] = df['ver_win_ratio_per_bu'].fillna(0)\n",
        "\n",
        "  return df\n",
        "\n",
        "# 각 데이터 세트에 대해 fill_na_1 함수 적용\n",
        "x_train = fill_na_1(x_train)\n",
        "x_val = fill_na_1(x_val)\n",
        "test = fill_na_1(test)"
      ]
    },
    {
      "cell_type": "markdown",
      "metadata": {
        "id": "aZAUbLJ5E-Es"
      },
      "source": [
        "## response_corporate, historical_existing_cnt, business_unit, com_reg_ver_win_rate, lead_owner\n",
        "**담당 : 김민솔**"
      ]
    },
    {
      "cell_type": "code",
      "execution_count": 13,
      "metadata": {
        "id": "p1jEjhHwIiLA"
      },
      "outputs": [],
      "source": [
        "def fill_na_2(df):\n",
        "    # 'historical_existing_cnt' 열의 결측치를 -1로 대체\n",
        "    df['historical_existing_cnt'] = df['historical_existing_cnt'].fillna(-1)\n",
        "    return df\n",
        "\n",
        "# 각 데이터 세트에 대해 fill_na_2 함수 적용\n",
        "x_train=fill_na_2(x_train)\n",
        "x_val=fill_na_2(x_val)\n",
        "test=fill_na_2(test)"
      ]
    },
    {
      "cell_type": "code",
      "execution_count": 14,
      "metadata": {
        "id": "FrxZy7fJFb8O"
      },
      "outputs": [],
      "source": [
        "def find_rate(df, target_rate, bin_size):\n",
        "    # com_reg_ver_win_rate 컬럼을 기준으로 구간을 나누고, 해당 구간별로 is_converted 컬럼의 평균을 계산합니다.\n",
        "    df['crv_win_rate_add'] = pd.cut(df['com_reg_ver_win_rate'], bins=np.arange(0, 1.1, bin_size))\n",
        "    # 각 구간별 is_converted의 평균을 계산합니다.\n",
        "    converted_rate = df.groupby('crv_win_rate_add')['is_converted'].mean().reset_index()\n",
        "    # 목표 전환율(target_rate)에 가장 가까운 구간의 전환율을 찾습니다.\n",
        "    closest_rate = converted_rate.iloc[(converted_rate['is_converted'] - target_rate).abs().idxmin()]\n",
        "    return closest_rate\n",
        "\n",
        "def calculate_bin_mean(bin_interval):\n",
        "    # 구간(bin_interval)의 평균값을 계산합니다.\n",
        "    return np.mean([bin_interval.left, bin_interval.right])\n",
        "\n",
        "def fill_na_3(df):\n",
        "    # com_reg_ver_win_rate 컬럼의 결측값을 구간의 평균값(mean_of_bin)으로 채웁니다.\n",
        "    df['com_reg_ver_win_rate'] = df['com_reg_ver_win_rate'].fillna(mean_of_bin)\n",
        "    return df\n",
        "\n",
        "# x_train과 y_train을 병합하여 train_tmp 데이터프레임을 생성합니다.\n",
        "train_tmp = pd.concat([x_train,y_train],axis=1)\n",
        "target_rate = 0.080123  # 목표 전환율\n",
        "bin_size = 0.02  # 구간의 크기\n",
        "\n",
        "# 목표 전환율에 가장 가까운 구간의 전환율 정보를 찾습니다.\n",
        "closest_rate_result = find_rate(train_tmp, target_rate, bin_size)\n",
        "# 찾은 구간의 평균값을 계산합니다.\n",
        "mean_of_bin = calculate_bin_mean(closest_rate_result['crv_win_rate_add'])\n",
        "\n",
        "# 각 데이터 세트에 대해 fill_na_3 함수 적용\n",
        "x_train = fill_na_3(x_train)\n",
        "x_val = fill_na_3(x_val)\n",
        "test = fill_na_3(test)"
      ]
    },
    {
      "cell_type": "markdown",
      "metadata": {
        "id": "hO0wCpyxI1BL"
      },
      "source": [
        "## lead_desc_length, inquiry_type, customer_position, expected_timeline, enterprise\n",
        "담당 : 박연재"
      ]
    },
    {
      "cell_type": "code",
      "execution_count": 15,
      "metadata": {
        "id": "Kn7z5OcoKH1u"
      },
      "outputs": [],
      "source": [
        "# 데이터 소문자화, 띄어쓰기, 특수문자 제거하는 전처리 함수\n",
        "def preprocess_feature(feature):\n",
        "  if isinstance(feature, str):  # 문자열인 경우에만 전처리 수행\n",
        "    # 소문자로 변환\n",
        "    feature = feature.lower()\n",
        "    # 특수문자 제거\n",
        "    feature = re.sub(r'[^a-zA-Z0-9]', '', feature)\n",
        "    # 공백 제거\n",
        "    feature = feature.replace(\" \", \"\")\n",
        "  return feature\n",
        "\n",
        "# 데이터 결측치 처리 및 범주화 함수\n",
        "def fill_na_4(df):\n",
        "  # 'inquiry_type', 'customer_position', 'expected_timeline' 열에 대해 preprocess_feature 함수를 적용\n",
        "  df['inquiry_type'] = df['inquiry_type'].apply(preprocess_feature)\n",
        "  df['customer_position'] = df['customer_position'].apply(preprocess_feature)\n",
        "  df['expected_timeline'] = df['expected_timeline'].apply(preprocess_feature)\n",
        "\n",
        "  # 'inquiry_type', 'expected_timeline 열에 대해 결측치 처리\n",
        "  df['inquiry_type'] = df['inquiry_type'].fillna('quotationorpurchaseconsultation')\n",
        "  df['expected_timeline'] = df['expected_timeline'].fillna('unknown')\n",
        "\n",
        "  # 각 열의 값에 대한 빈도수 계산\n",
        "  customer_position_counts = df['customer_position'].value_counts()\n",
        "  inquiry_type_counts = df['inquiry_type'].value_counts()\n",
        "  expected_timeline_counts = df['expected_timeline'].value_counts()\n",
        "\n",
        "  # 빈도수가 특정 임계값(threshold) 이하인 값을 'other'로 변경\n",
        "  positions_to_replace = customer_position_counts[customer_position_counts <= 24].index\n",
        "  inquiry_type_to_replace = inquiry_type_counts[inquiry_type_counts <= 20].index\n",
        "  expected_timeline_to_replace = expected_timeline_counts[expected_timeline_counts <= 10].index\n",
        "\n",
        "  # 임계값 이하인 값들을 'other'로 대체\n",
        "  df['inquiry_type'] = df['inquiry_type'].replace(inquiry_type_to_replace, 'other')\n",
        "  df['customer_position'] = df['customer_position'].replace(positions_to_replace, 'other')\n",
        "  df['expected_timeline'] = df['expected_timeline'].replace(expected_timeline_to_replace, 'other')\n",
        "\n",
        "  return df\n",
        "\n",
        "# 각 데이터 세트에 대해 fill_na_4 함수 적용\n",
        "x_train = fill_na_4(x_train)\n",
        "x_val = fill_na_4(x_val)\n",
        "test = fill_na_4(test)\n"
      ]
    },
    {
      "cell_type": "markdown",
      "metadata": {
        "id": "d3jBvYOyJQkc"
      },
      "source": [
        "## bant_submit, customer_country, customer_idx, customer_type, customer_job\n",
        "담당 : 오혁준"
      ]
    },
    {
      "cell_type": "code",
      "execution_count": 16,
      "metadata": {
        "id": "GZTDB_RO14Ac"
      },
      "outputs": [],
      "source": [
        "def preprocess_country_column(df, column_name):\n",
        "    # 모든 국가 이름을 소문자로 변환하여 리스트로 저장\n",
        "    countries = [country.name.lower() for country in pycountry.countries]\n",
        "\n",
        "    def convert_to_country_name(item):\n",
        "        # 입력값이 null이 아닌 경우 소문자로 변환, null인 경우 'Not Entered' 반환\n",
        "        if pd.notnull(item):\n",
        "            item_lower = item.lower()\n",
        "        else:\n",
        "            return 'Not Entered'\n",
        "\n",
        "        # 입력값이 빈 문자열인 경우 'Not Entered' 반환\n",
        "        if item_lower == '':\n",
        "            return 'Not Entered'\n",
        "\n",
        "        # 가장 긴 일치하는 국가 이름을 찾기 위한 변수 초기화\n",
        "        longest_match_country = None\n",
        "        longest_match_length = 0\n",
        "\n",
        "        # 입력 항목을 단어 단위로 분리하여 각 단어 검사\n",
        "        for country in countries:\n",
        "            if country in item_lower:\n",
        "                # 가장 긴 일치하는 국가 이름 업데이트\n",
        "                if len(country) > longest_match_length:\n",
        "                    longest_match_country = country\n",
        "                    longest_match_length = len(country)\n",
        "\n",
        "        # 가장 긴 일치하는 국가 이름이 존재하는 경우, 첫 글자를 대문자로 변환하여 반환\n",
        "        if longest_match_country:\n",
        "            return longest_match_country.title()\n",
        "\n",
        "        # 일치하는 국가 이름이 없는 경우 'other city' 반환\n",
        "        return 'other city'\n",
        "\n",
        "    # 주어진 컬럼에 대해 convert_to_country_name 함수를 적용하여 국가 이름 변환\n",
        "    df[column_name] = df[column_name].apply(convert_to_country_name)\n",
        "\n",
        "    # 국가별 출현 횟수 계산\n",
        "    customer_country_counts = df[column_name].value_counts()\n",
        "    # 20번 미만으로 출현한 국가 이름 리스트 생성\n",
        "    customer_country_replace = customer_country_counts[customer_country_counts < 20].index.tolist()\n",
        "\n",
        "    # 출현 횟수가 20번 미만인 국가 이름을 'other country'로 변경\n",
        "    df.loc[df[column_name].isin(customer_country_replace), column_name] = 'other country'\n",
        "\n",
        "    # 중복 컬럼 제거 (예: 'customer_country.1', 'idit_strategic_ver')\n",
        "    df.drop(columns=[\"customer_country.1\", \"idit_strategic_ver\"], inplace=True)\n",
        "\n",
        "    return df\n",
        "\n",
        "# 각 데이터 세트에 대해 preprocess_country_column 함수 적용\n",
        "x_train = preprocess_country_column(x_train, 'customer_country')\n",
        "x_val = preprocess_country_column(x_val, 'customer_country')\n",
        "test = preprocess_country_column(test, 'customer_country')"
      ]
    },
    {
      "cell_type": "code",
      "execution_count": 17,
      "metadata": {
        "id": "BJ8bCePtLDNn"
      },
      "outputs": [],
      "source": [
        "def fill_na_5(df):\n",
        "  # 'customer_type'과 'customer_job' 피처(열)에 대해 'preprocess_feature' 함수를 적용하여 전처리합니다.\n",
        "  df['customer_type'] = df['customer_type'].apply(preprocess_feature)\n",
        "  df['customer_job'] = df['customer_job'].apply(preprocess_feature)\n",
        "\n",
        "  # 'customer_type'과 'customer_job' 열의 결측값(NaN)을 'Not Entered'로 채웁니다.\n",
        "  df['customer_type'] = df['customer_type'].fillna('Not Entered')\n",
        "  df['customer_job'] = df['customer_job'].fillna('Not Entered')\n",
        "\n",
        "  # 'customer_type'과 'customer_job'의 각 값에 대한 빈도수를 계산합니다.\n",
        "  customer_type_counts = df['customer_type'].value_counts()\n",
        "  customer_job_counts = df['customer_job'].value_counts()\n",
        "\n",
        "  # 빈도수가 10 이하인 'customer_type'과 40 이하인 'customer_job'의 값을 찾아 리스트로 만듭니다.\n",
        "  customer_type_to_replace = customer_type_counts[customer_type_counts <= 10].index\n",
        "  customer_job_to_replace = customer_job_counts[customer_job_counts <= 40].index\n",
        "\n",
        "  # 빈도수가 낮은 값을 'other types'와 'other jobs'로 대체합니다.\n",
        "  df['customer_type'] = df['customer_type'].replace(customer_type_to_replace, 'other types')\n",
        "  df['customer_job'] = df['customer_job'].replace(customer_job_to_replace, 'other jobs')\n",
        "\n",
        "  return df\n",
        "\n",
        "# 각 데이터 세트에 대해 fill_na_5 함수 적용\n",
        "x_train = fill_na_5(x_train)\n",
        "x_val = fill_na_5(x_val)\n",
        "test = fill_na_5(test)"
      ]
    },
    {
      "cell_type": "markdown",
      "source": [
        "##lead_date, transfer_agreement, lead_from_channel"
      ],
      "metadata": {
        "id": "hKOksqLmLD7v"
      }
    },
    {
      "cell_type": "code",
      "source": [
        "def fill_na_6(df):\n",
        "    df['lead_date'] = pd.to_datetime(df['lead_date']) #날짜형식으로 변환\n",
        "    df['year'] = df['lead_date'].dt.year\n",
        "    df['month'] = df['lead_date'].dt.month\n",
        "    df.drop(columns=['lead_date'], inplace=True) #원래의 'lead_date' 열 삭제\n",
        "    return df"
      ],
      "metadata": {
        "id": "YKNsdIpCLLe7"
      },
      "execution_count": 18,
      "outputs": []
    },
    {
      "cell_type": "code",
      "source": [
        "def fill_na_7(df):\n",
        "    df['transfer_agreement'] = df['transfer_agreement'].fillna('A')\n",
        "    return df"
      ],
      "metadata": {
        "id": "ZvS3-Q7qLxgU"
      },
      "execution_count": 19,
      "outputs": []
    },
    {
      "cell_type": "code",
      "source": [
        "def fill_na_8(df):\n",
        "    df['lead_from_channel'].fillna('other')"
      ],
      "metadata": {
        "id": "oYNCDp_pMBNV"
      },
      "execution_count": 20,
      "outputs": []
    },
    {
      "cell_type": "code",
      "source": [
        "def fill_na_9(df):\n",
        "  df['lead_from_channel'].fillna('other', inplace=True)\n",
        "\n",
        "  channel_counts = df['lead_from_channel'].value_counts()\n",
        "  channel_to_replace=channel_counts[channel_counts<= 6].index\n",
        "  df['lead_from_channel'] = df['lead_from_channel'].replace(channel_to_replace, 'other')\n",
        "\n",
        "  for idx, channel in enumerate(df['lead_from_channel']):\n",
        "    if 'lg' in channel:\n",
        "        df.at[idx, 'lead_from_channel'] = 'lg'\n",
        "    if 'webinar' in channel:\n",
        "        df.at[idx, 'lead_from_channel'] = 'webinar'\n"
      ],
      "metadata": {
        "id": "fV1QZU7hU3Sd"
      },
      "execution_count": 21,
      "outputs": []
    },
    {
      "cell_type": "markdown",
      "metadata": {
        "id": "v4OziFrW14Ad"
      },
      "source": [
        "# 평가지표"
      ]
    },
    {
      "cell_type": "code",
      "execution_count": 22,
      "metadata": {
        "id": "vBuDFwxjeQ6c"
      },
      "outputs": [],
      "source": [
        "def get_clf_eval(y_test, y_pred=None):\n",
        "    # True와 False 레이블을 명시적으로 지정하여 오차 행렬을 생성합니다.\n",
        "    confusion = confusion_matrix(y_test, y_pred, labels=[True, False])\n",
        "    # 정확도 계산: 전체 중에서 올바르게 예측된 비율\n",
        "    accuracy = accuracy_score(y_test, y_pred)\n",
        "    # 정밀도 계산: True로 예측된 것 중 실제 True의 비율\n",
        "    precision = precision_score(y_test, y_pred, labels=[True, False])\n",
        "    # 재현율 계산: 실제 True 중에서 True로 올바르게 예측된 비율\n",
        "    recall = recall_score(y_test, y_pred)\n",
        "    # F1 점수 계산: 정밀도와 재현율의 조화 평균\n",
        "    F1 = f1_score(y_test, y_pred, labels=[True, False])\n",
        "\n",
        "    # 성능 지표 출력\n",
        "    print(\"오차행렬:\\n\", confusion)\n",
        "    print(\"\\n정확도: {:.4f}\".format(accuracy))\n",
        "    print(\"정밀도: {:.4f}\".format(precision))\n",
        "    print(\"재현율: {:.4f}\".format(recall))\n",
        "    print(\"F1: {:.4f}\".format(F1))"
      ]
    },
    {
      "cell_type": "markdown",
      "metadata": {
        "id": "nP-_xZXhSIKU"
      },
      "source": [
        "# Model Test"
      ]
    },
    {
      "cell_type": "code",
      "execution_count": 23,
      "metadata": {
        "id": "bUpbY-6FSKTO",
        "scrolled": true,
        "colab": {
          "base_uri": "https://localhost:8080/"
        },
        "outputId": "f29a2cbd-15b9-4fe6-b072-8657e28161fd"
      },
      "outputs": [
        {
          "output_type": "stream",
          "name": "stdout",
          "text": [
            "<class 'pandas.core.frame.DataFrame'>\n",
            "Index: 47439 entries, 27803 to 13336\n",
            "Data columns (total 44 columns):\n",
            " #   Column                   Non-Null Count  Dtype  \n",
            "---  ------                   --------------  -----  \n",
            " 0   bant_submit              47439 non-null  float64\n",
            " 1   customer_country         47439 non-null  object \n",
            " 2   business_unit            47439 non-null  object \n",
            " 3   com_reg_ver_win_rate     47439 non-null  float64\n",
            " 4   customer_idx             47439 non-null  int64  \n",
            " 5   customer_type            47439 non-null  object \n",
            " 6   enterprise               47439 non-null  object \n",
            " 7   historical_existing_cnt  47439 non-null  float64\n",
            " 8   id_strategic_ver         47439 non-null  object \n",
            " 9   it_strategic_ver         47439 non-null  object \n",
            " 10  customer_job             47439 non-null  object \n",
            " 11  lead_desc_length         47439 non-null  int64  \n",
            " 12  inquiry_type             47439 non-null  object \n",
            " 13  product_category         47439 non-null  int64  \n",
            " 14  product_subcategory      47439 non-null  int64  \n",
            " 15  product_modelname        47439 non-null  int64  \n",
            " 16  customer_position        47439 non-null  object \n",
            " 17  response_corporate       47439 non-null  object \n",
            " 18  expected_timeline        47439 non-null  object \n",
            " 19  ver_cus                  47439 non-null  int64  \n",
            " 20  ver_pro                  47439 non-null  int64  \n",
            " 21  ver_win_rate_x           47439 non-null  float64\n",
            " 22  ver_win_ratio_per_bu     47439 non-null  float64\n",
            " 23  business_area            47439 non-null  object \n",
            " 24  business_subarea         47439 non-null  object \n",
            " 25  lead_owner               47439 non-null  int64  \n",
            " 26  cluster0                 47439 non-null  float64\n",
            " 27  cluster1                 47439 non-null  float64\n",
            " 28  cluster2                 47439 non-null  float64\n",
            " 29  cluster3                 47439 non-null  float64\n",
            " 30  cluster4                 47439 non-null  float64\n",
            " 31  cluster5                 47439 non-null  float64\n",
            " 32  cluster6                 47439 non-null  float64\n",
            " 33  cluster7                 47439 non-null  float64\n",
            " 34  cluster8                 47439 non-null  float64\n",
            " 35  cluster9                 47439 non-null  float64\n",
            " 36  cluster10                47439 non-null  float64\n",
            " 37  cluster11                47439 non-null  float64\n",
            " 38  cluster12                47439 non-null  float64\n",
            " 39  cluster13                47439 non-null  float64\n",
            " 40  cluster14                47439 non-null  float64\n",
            " 41  cluster15                47439 non-null  float64\n",
            " 42  cluster16                47439 non-null  float64\n",
            " 43  cluster17                47439 non-null  float64\n",
            "dtypes: float64(23), int64(8), object(13)\n",
            "memory usage: 16.3+ MB\n"
          ]
        }
      ],
      "source": [
        "x_train.info()"
      ]
    },
    {
      "cell_type": "code",
      "execution_count": 24,
      "metadata": {
        "id": "bZzD0mWV14Ae"
      },
      "outputs": [],
      "source": [
        "# 범주형 데이터\n",
        "object_cols = ['customer_idx','id_strategic_ver', 'it_strategic_ver', 'product_category',\n",
        "             'product_subcategory', 'product_modelname',\n",
        "        'ver_cus', 'ver_pro','lead_owner', 'cluster0', 'cluster1', 'cluster2',\n",
        "       'cluster3', 'cluster4', 'cluster5', 'cluster6', 'cluster7', 'cluster8',\n",
        "       'cluster9', 'cluster10', 'cluster11', 'cluster12', 'cluster13',\n",
        "       'cluster14', 'cluster15', 'cluster16', 'cluster17']\n",
        "\n",
        "# category 파생변수\n",
        "product_cols = ['cluster0', 'cluster1', 'cluster2',\n",
        "       'cluster3', 'cluster4', 'cluster5', 'cluster6', 'cluster7', 'cluster8',\n",
        "       'cluster9', 'cluster10', 'cluster11', 'cluster12', 'cluster13',\n",
        "       'cluster14', 'cluster15', 'cluster16', 'cluster17']"
      ]
    },
    {
      "cell_type": "code",
      "execution_count": 25,
      "metadata": {
        "id": "wyOFxPY514Ae"
      },
      "outputs": [],
      "source": [
        "# object type 컬럼들을 category type으로 변환\n",
        "def object2category(df):\n",
        "    # category 파생변수 float형에서 object형 변환\n",
        "    for i in df.columns:\n",
        "        if i in product_cols:\n",
        "            df[i] = np.where(df[i]==1, \"Y\", \"N\")\n",
        "\n",
        "    # object형 > category형 변환\n",
        "    for i in df.columns:\n",
        "        if i in object_cols:\n",
        "            df[[i]] = df[[i]].astype('category')\n",
        "        elif df[i].dtype == 'object':\n",
        "            df[[i]] = df[[i]].astype('category')\n",
        "    return df\n",
        "\n",
        "# 각 데이터 세트에 대해 object2category 함수 적용\n",
        "x_train1 = object2category(x_train)\n",
        "x_val1 = object2category(x_val)\n",
        "x_test1 = object2category(test)"
      ]
    },
    {
      "cell_type": "code",
      "execution_count": 26,
      "metadata": {
        "id": "oFzMc8hE14Af"
      },
      "outputs": [],
      "source": [
        "# 복사본 생성\n",
        "x_train2 = x_train1.copy()\n",
        "x_val2 = x_val1.copy()\n",
        "y_train2 = y_train.copy()\n",
        "y_val2 = y_val.copy()\n",
        "x_test2 = x_test1.copy()"
      ]
    },
    {
      "cell_type": "code",
      "execution_count": 27,
      "metadata": {
        "id": "uLGgu1Up14Af"
      },
      "outputs": [],
      "source": [
        "# category type 컬럼 인덱스 저장\n",
        "categorical_features = []\n",
        "for i, col in enumerate(x_train1.columns):\n",
        "    if x_train1[col].dtypes=='category':\n",
        "        categorical_features.append(i)"
      ]
    },
    {
      "cell_type": "markdown",
      "metadata": {
        "id": "qrKVZFwA14Af"
      },
      "source": [
        "# LightGBM"
      ]
    },
    {
      "cell_type": "code",
      "execution_count": 28,
      "metadata": {
        "id": "Iivr-caM14Av",
        "scrolled": true
      },
      "outputs": [],
      "source": [
        "# # optuna를 통한 best_pram 탐색\n",
        "# sampler = TPESampler(seed=SEED)\n",
        "\n",
        "# def objective(trial):\n",
        "#     # LightGBM 모델 정의\n",
        "#     params = {\n",
        "#         'objective': 'binary', # 이진 분류\n",
        "#         'boosting_type': 'gbdt',\n",
        "#         'eval_metric':'logloss',\n",
        "#         'num_leaves': trial.suggest_int('num_leaves', 2, 256), # num_leaves 값을 2-256까지 정수값 중에 사용\n",
        "#         'max_bin': trial.suggest_int('max_bin', 128, 256), # max_bin 값을 128-256까지 정수값 중에 사용\n",
        "#         # min_data_in_leaf 값을 10-40까지 정수값 중에 사용\n",
        "#         'min_data_in_leaf': trial.suggest_int('min_data_in_leaf', 10, 40),\n",
        "#         # 피처 샘플링 비율을 0.4-1.0까지 중에 uniform 분포로 사용\n",
        "#         'feature_fraction': trial.suggest_uniform('feature_fraction', 0.4, 1.0),\n",
        "#         # 데이터 샘플링 비율을 0.4-1.0까지 중에 uniform 분포로 사용\n",
        "#         'bagging_fraction': trial.suggest_uniform('bagging_fraction', 0.4, 1.0),\n",
        "#         # 데이터 샘플링 횟수를 1-7까지 정수값 중에 사용\n",
        "#         'bagging_freq': trial.suggest_int('bagging_freq', 1, 7),\n",
        "#         'n_estimators': trial.suggest_int(\"n_estimators\", 1000, 20000), # 트리 개수\n",
        "#         'early_stopping_rounds': 100,\n",
        "#         # L1 값을 1e-8-10.0까지 로그 uniform 분포로 사용\n",
        "#         'lambda_l1': trial.suggest_loguniform('lambda_l1', 1e-8, 10.0),\n",
        "#         # L2 값을 1e-8-10.0까지 로그 uniform 분포로 사용\n",
        "#         'lambda_l2': trial.suggest_loguniform('lambda_l2', 1e-8, 10.0),\n",
        "#         'categorical_feature':categorical_features,\n",
        "#         'random_state': SEED,\n",
        "#         'is_unbalance':True,\n",
        "#         'verbose': -1,\n",
        "#         'n_jobs': -1,\n",
        "#     }\n",
        "\n",
        "#     # Stratified K-Fold 교차 검증 수행\n",
        "#     skf = StratifiedKFold(n_splits=5, shuffle=True, random_state=SEED)\n",
        "#     f1_scores = []\n",
        "#     for train_index, valid_index in skf.split(x_train1, y_train):\n",
        "#         X_train, X_valid = x_train1.iloc[train_index], x_train1.iloc[valid_index]\n",
        "#         Y_train, Y_valid = y_train.iloc[train_index], y_train.iloc[valid_index]\n",
        "\n",
        "#         dtrain = lgb.Dataset(X_train, label=Y_train)\n",
        "#         dvalid = lgb.Dataset(X_valid, label=Y_valid)\n",
        "\n",
        "#         model = lgb.train(params, dtrain, valid_sets=[dtrain, dvalid])\n",
        "\n",
        "#         y_pred = model.predict(X_valid)\n",
        "#         y_pred_binary = np.round(y_pred)\n",
        "#         f1_scores.append(f1_score(Y_valid, y_pred_binary))\n",
        "\n",
        "#     return np.mean(f1_scores)\n",
        "\n",
        "# # Optuna 최적화 수행\n",
        "# study = optuna.create_study(direction='maximize', sampler=sampler)\n",
        "# study.optimize(objective, n_trials=100)\n",
        "\n",
        "# # 최적 하이퍼파라미터 출력\n",
        "# print(\"Best trial:\")\n",
        "# trial = study.best_trial\n",
        "# print(\"Value: {}\".format(trial.value))\n",
        "# print(\"Params: \")\n",
        "# for key, value in trial.params.items():\n",
        "#     print(\"    {}: {}\".format(key, value))"
      ]
    },
    {
      "cell_type": "code",
      "execution_count": 29,
      "metadata": {
        "id": "aRFGBcP37lH5"
      },
      "outputs": [],
      "source": [
        "# optuna best_param\n",
        "lgb_param = {'num_leaves': 247,\n",
        "    'max_bin': 216,\n",
        "    'min_data_in_leaf': 40,\n",
        "    'feature_fraction': 0.5183918408374883,\n",
        "    'bagging_fraction': 0.8498576580360917,\n",
        "    'bagging_freq': 6,\n",
        "    'n_estimators': 2964,\n",
        "    'lambda_l1': 0.013838831287919526,\n",
        "    'lambda_l2': 2.533704222692857e-07}"
      ]
    },
    {
      "cell_type": "code",
      "execution_count": 30,
      "metadata": {
        "id": "FEIlq4R514Af",
        "scrolled": true,
        "colab": {
          "base_uri": "https://localhost:8080/"
        },
        "outputId": "e1bb1cae-02ce-4d47-eff5-2ebfa8f019fe"
      },
      "outputs": [
        {
          "output_type": "stream",
          "name": "stdout",
          "text": [
            "[LightGBM] [Warning] min_data_in_leaf is set=40, min_child_samples=20 will be ignored. Current value: min_data_in_leaf=40\n",
            "[LightGBM] [Warning] bagging_freq is set=6, subsample_freq=0 will be ignored. Current value: bagging_freq=6\n",
            "[LightGBM] [Warning] feature_fraction is set=0.5183918408374883, colsample_bytree=1.0 will be ignored. Current value: feature_fraction=0.5183918408374883\n",
            "[LightGBM] [Warning] lambda_l2 is set=2.533704222692857e-07, reg_lambda=0.0 will be ignored. Current value: lambda_l2=2.533704222692857e-07\n",
            "[LightGBM] [Warning] early_stopping_round is set=100, early_stopping_rounds=100 will be ignored. Current value: early_stopping_round=100\n",
            "[LightGBM] [Warning] lambda_l1 is set=0.013838831287919526, reg_alpha=0.0 will be ignored. Current value: lambda_l1=0.013838831287919526\n",
            "[LightGBM] [Warning] bagging_fraction is set=0.8498576580360917, subsample=1.0 will be ignored. Current value: bagging_fraction=0.8498576580360917\n",
            "[LightGBM] [Warning] Categorical features with more bins than the configured maximum bin number found.\n",
            "[LightGBM] [Warning] For categorical features, max_bin and max_bin_by_feature may be ignored with a large number of categories.\n",
            "[LightGBM] [Warning] min_data_in_leaf is set=40, min_child_samples=20 will be ignored. Current value: min_data_in_leaf=40\n",
            "[LightGBM] [Warning] bagging_freq is set=6, subsample_freq=0 will be ignored. Current value: bagging_freq=6\n",
            "[LightGBM] [Warning] categorical_feature is set=1,2,4,5,6,8,9,10,12,13,14,15,16,17,18,19,20,23,24,25,26,27,28,29,30,31,32,33,34,35,36,37,38,39,40,41,42,43, categorical_column=1,2,4,5,6,8,9,10,12,13,14,15,16,17,18,19,20,23,24,25,26,27,28,29,30,31,32,33,34,35,36,37,38,39,40,41,42,43 will be ignored. Current value: categorical_feature=1,2,4,5,6,8,9,10,12,13,14,15,16,17,18,19,20,23,24,25,26,27,28,29,30,31,32,33,34,35,36,37,38,39,40,41,42,43\n",
            "[LightGBM] [Warning] feature_fraction is set=0.5183918408374883, colsample_bytree=1.0 will be ignored. Current value: feature_fraction=0.5183918408374883\n",
            "[LightGBM] [Warning] lambda_l2 is set=2.533704222692857e-07, reg_lambda=0.0 will be ignored. Current value: lambda_l2=2.533704222692857e-07\n",
            "[LightGBM] [Warning] lambda_l1 is set=0.013838831287919526, reg_alpha=0.0 will be ignored. Current value: lambda_l1=0.013838831287919526\n",
            "[LightGBM] [Warning] bagging_fraction is set=0.8498576580360917, subsample=1.0 will be ignored. Current value: bagging_fraction=0.8498576580360917\n",
            "[LightGBM] [Info] Number of positive: 3880, number of negative: 43559\n",
            "[LightGBM] [Info] Auto-choosing row-wise multi-threading, the overhead of testing was 0.013053 seconds.\n",
            "You can set `force_row_wise=true` to remove the overhead.\n",
            "And if memory is not enough, you can set `force_col_wise=true`.\n",
            "[LightGBM] [Info] Total Bins 2694\n",
            "[LightGBM] [Info] Number of data points in the train set: 47439, number of used features: 43\n",
            "[LightGBM] [Warning] min_data_in_leaf is set=40, min_child_samples=20 will be ignored. Current value: min_data_in_leaf=40\n",
            "[LightGBM] [Warning] bagging_freq is set=6, subsample_freq=0 will be ignored. Current value: bagging_freq=6\n",
            "[LightGBM] [Warning] feature_fraction is set=0.5183918408374883, colsample_bytree=1.0 will be ignored. Current value: feature_fraction=0.5183918408374883\n",
            "[LightGBM] [Warning] lambda_l2 is set=2.533704222692857e-07, reg_lambda=0.0 will be ignored. Current value: lambda_l2=2.533704222692857e-07\n",
            "[LightGBM] [Warning] early_stopping_round is set=100, early_stopping_rounds=100 will be ignored. Current value: early_stopping_round=100\n",
            "[LightGBM] [Warning] lambda_l1 is set=0.013838831287919526, reg_alpha=0.0 will be ignored. Current value: lambda_l1=0.013838831287919526\n",
            "[LightGBM] [Warning] bagging_fraction is set=0.8498576580360917, subsample=1.0 will be ignored. Current value: bagging_fraction=0.8498576580360917\n",
            "[LightGBM] [Info] [binary:BoostFromScore]: pavg=0.081789 -> initscore=-2.418281\n",
            "[LightGBM] [Info] Start training from score -2.418281\n",
            "Training until validation scores don't improve for 100 rounds\n",
            "[LightGBM] [Warning] No further splits with positive gain, best gain: -inf\n",
            "[LightGBM] [Warning] No further splits with positive gain, best gain: -inf\n",
            "[LightGBM] [Warning] No further splits with positive gain, best gain: -inf\n",
            "[LightGBM] [Warning] No further splits with positive gain, best gain: -inf\n",
            "[LightGBM] [Warning] No further splits with positive gain, best gain: -inf\n",
            "[LightGBM] [Warning] No further splits with positive gain, best gain: -inf\n",
            "[LightGBM] [Warning] No further splits with positive gain, best gain: -inf\n",
            "[LightGBM] [Warning] No further splits with positive gain, best gain: -inf\n",
            "[LightGBM] [Warning] No further splits with positive gain, best gain: -inf\n",
            "[LightGBM] [Warning] No further splits with positive gain, best gain: -inf\n",
            "[LightGBM] [Warning] No further splits with positive gain, best gain: -inf\n",
            "[LightGBM] [Warning] No further splits with positive gain, best gain: -inf\n",
            "[LightGBM] [Warning] No further splits with positive gain, best gain: -inf\n",
            "[LightGBM] [Warning] No further splits with positive gain, best gain: -inf\n",
            "[LightGBM] [Warning] No further splits with positive gain, best gain: -inf\n",
            "[LightGBM] [Warning] No further splits with positive gain, best gain: -inf\n",
            "[LightGBM] [Warning] No further splits with positive gain, best gain: -inf\n",
            "[LightGBM] [Warning] No further splits with positive gain, best gain: -inf\n",
            "[LightGBM] [Warning] No further splits with positive gain, best gain: -inf\n",
            "[LightGBM] [Warning] No further splits with positive gain, best gain: -inf\n",
            "[LightGBM] [Warning] No further splits with positive gain, best gain: -inf\n",
            "[LightGBM] [Warning] No further splits with positive gain, best gain: -inf\n",
            "[LightGBM] [Warning] No further splits with positive gain, best gain: -inf\n",
            "[LightGBM] [Warning] No further splits with positive gain, best gain: -inf\n",
            "[LightGBM] [Warning] No further splits with positive gain, best gain: -inf\n",
            "[LightGBM] [Warning] No further splits with positive gain, best gain: -inf\n",
            "[LightGBM] [Warning] No further splits with positive gain, best gain: -inf\n",
            "[LightGBM] [Warning] No further splits with positive gain, best gain: -inf\n",
            "[LightGBM] [Warning] No further splits with positive gain, best gain: -inf\n",
            "[LightGBM] [Warning] No further splits with positive gain, best gain: -inf\n",
            "[LightGBM] [Warning] No further splits with positive gain, best gain: -inf\n",
            "[LightGBM] [Warning] No further splits with positive gain, best gain: -inf\n",
            "[LightGBM] [Warning] No further splits with positive gain, best gain: -inf\n",
            "[LightGBM] [Warning] No further splits with positive gain, best gain: -inf\n",
            "[LightGBM] [Warning] No further splits with positive gain, best gain: -inf\n",
            "[LightGBM] [Warning] No further splits with positive gain, best gain: -inf\n",
            "[LightGBM] [Warning] No further splits with positive gain, best gain: -inf\n",
            "[LightGBM] [Warning] No further splits with positive gain, best gain: -inf\n",
            "[LightGBM] [Warning] No further splits with positive gain, best gain: -inf\n",
            "[LightGBM] [Warning] No further splits with positive gain, best gain: -inf\n",
            "[LightGBM] [Warning] No further splits with positive gain, best gain: -inf\n",
            "[LightGBM] [Warning] No further splits with positive gain, best gain: -inf\n",
            "[LightGBM] [Warning] No further splits with positive gain, best gain: -inf\n",
            "[LightGBM] [Warning] No further splits with positive gain, best gain: -inf\n",
            "[LightGBM] [Warning] No further splits with positive gain, best gain: -inf\n",
            "[LightGBM] [Warning] No further splits with positive gain, best gain: -inf\n",
            "[LightGBM] [Warning] No further splits with positive gain, best gain: -inf\n",
            "[LightGBM] [Warning] No further splits with positive gain, best gain: -inf\n",
            "[LightGBM] [Warning] No further splits with positive gain, best gain: -inf\n",
            "[LightGBM] [Warning] No further splits with positive gain, best gain: -inf\n",
            "[LightGBM] [Warning] No further splits with positive gain, best gain: -inf\n",
            "[LightGBM] [Warning] No further splits with positive gain, best gain: -inf\n",
            "[LightGBM] [Warning] No further splits with positive gain, best gain: -inf\n",
            "[LightGBM] [Warning] No further splits with positive gain, best gain: -inf\n",
            "[LightGBM] [Warning] No further splits with positive gain, best gain: -inf\n",
            "[LightGBM] [Warning] No further splits with positive gain, best gain: -inf\n",
            "[LightGBM] [Warning] No further splits with positive gain, best gain: -inf\n",
            "[LightGBM] [Warning] No further splits with positive gain, best gain: -inf\n",
            "[LightGBM] [Warning] No further splits with positive gain, best gain: -inf\n",
            "[LightGBM] [Warning] No further splits with positive gain, best gain: -inf\n",
            "[LightGBM] [Warning] No further splits with positive gain, best gain: -inf\n",
            "[LightGBM] [Warning] No further splits with positive gain, best gain: -inf\n",
            "[LightGBM] [Warning] No further splits with positive gain, best gain: -inf\n",
            "[LightGBM] [Warning] No further splits with positive gain, best gain: -inf\n",
            "[LightGBM] [Warning] No further splits with positive gain, best gain: -inf\n",
            "[LightGBM] [Warning] No further splits with positive gain, best gain: -inf\n",
            "[LightGBM] [Warning] No further splits with positive gain, best gain: -inf\n",
            "[LightGBM] [Warning] No further splits with positive gain, best gain: -inf\n",
            "[LightGBM] [Warning] No further splits with positive gain, best gain: -inf\n",
            "[LightGBM] [Warning] No further splits with positive gain, best gain: -inf\n",
            "[LightGBM] [Warning] No further splits with positive gain, best gain: -inf\n",
            "[LightGBM] [Warning] No further splits with positive gain, best gain: -inf\n",
            "[LightGBM] [Warning] No further splits with positive gain, best gain: -inf\n",
            "[LightGBM] [Warning] No further splits with positive gain, best gain: -inf\n",
            "[LightGBM] [Warning] No further splits with positive gain, best gain: -inf\n",
            "[LightGBM] [Warning] No further splits with positive gain, best gain: -inf\n",
            "[LightGBM] [Warning] No further splits with positive gain, best gain: -inf\n",
            "[LightGBM] [Warning] No further splits with positive gain, best gain: -inf\n",
            "[LightGBM] [Warning] No further splits with positive gain, best gain: -inf\n",
            "[LightGBM] [Warning] No further splits with positive gain, best gain: -inf\n",
            "[LightGBM] [Warning] No further splits with positive gain, best gain: -inf\n",
            "[LightGBM] [Warning] No further splits with positive gain, best gain: -inf\n",
            "[LightGBM] [Warning] No further splits with positive gain, best gain: -inf\n",
            "[LightGBM] [Warning] No further splits with positive gain, best gain: -inf\n",
            "[LightGBM] [Warning] No further splits with positive gain, best gain: -inf\n",
            "[LightGBM] [Warning] No further splits with positive gain, best gain: -inf\n",
            "[LightGBM] [Warning] No further splits with positive gain, best gain: -inf\n",
            "[LightGBM] [Warning] No further splits with positive gain, best gain: -inf\n",
            "[LightGBM] [Warning] No further splits with positive gain, best gain: -inf\n",
            "Early stopping, best iteration is:\n",
            "[116]\ttraining's binary_logloss: 0.0214975\tvalid_1's binary_logloss: 0.0739061\n",
            "[LightGBM] [Warning] min_data_in_leaf is set=40, min_child_samples=20 will be ignored. Current value: min_data_in_leaf=40\n",
            "[LightGBM] [Warning] bagging_freq is set=6, subsample_freq=0 will be ignored. Current value: bagging_freq=6\n",
            "[LightGBM] [Warning] feature_fraction is set=0.5183918408374883, colsample_bytree=1.0 will be ignored. Current value: feature_fraction=0.5183918408374883\n",
            "[LightGBM] [Warning] lambda_l2 is set=2.533704222692857e-07, reg_lambda=0.0 will be ignored. Current value: lambda_l2=2.533704222692857e-07\n",
            "[LightGBM] [Warning] lambda_l1 is set=0.013838831287919526, reg_alpha=0.0 will be ignored. Current value: lambda_l1=0.013838831287919526\n",
            "[LightGBM] [Warning] bagging_fraction is set=0.8498576580360917, subsample=1.0 will be ignored. Current value: bagging_fraction=0.8498576580360917\n"
          ]
        }
      ],
      "source": [
        "# LightGBM 모델 학습\n",
        "lgb_model = lgb.LGBMClassifier(n_jobs=-1,\n",
        "                           is_unbalance=True, # 클래스 불균형 처리\n",
        "                           random_state=SEED,\n",
        "                           **lgb_param, # optuna best_param 적용\n",
        "                           objective= 'binary', # 이진 분류\n",
        "                            boosting_type =  'gbdt',\n",
        "                            metric = 'logloss',\n",
        "                            early_stopping_rounds = 100,\n",
        "                            categorical_feature=categorical_features)\n",
        "\n",
        "# 훈련\n",
        "lgb_model.fit(x_train1, y_train,\n",
        "        eval_set=[(x_train1, y_train), (x_val1, y_val)],\n",
        "        eval_metric='binary_logloss')\n",
        "\n",
        "# val 예측\n",
        "y_pred = lgb_model.predict(x_val1)"
      ]
    },
    {
      "cell_type": "code",
      "execution_count": 31,
      "metadata": {
        "id": "Kf9Sr6DW7lH5",
        "colab": {
          "base_uri": "https://localhost:8080/"
        },
        "outputId": "6e08b169-3233-42b2-e50f-ed286016ba4e"
      },
      "outputs": [
        {
          "output_type": "stream",
          "name": "stdout",
          "text": [
            "오차행렬:\n",
            " [[  814   156]\n",
            " [  186 10704]]\n",
            "\n",
            "정확도: 0.9712\n",
            "정밀도: 0.8140\n",
            "재현율: 0.8392\n",
            "F1: 0.8264\n"
          ]
        }
      ],
      "source": [
        "# LightGBM 모델 오차 행렬\n",
        "get_clf_eval(y_val, y_pred)"
      ]
    },
    {
      "cell_type": "code",
      "execution_count": 32,
      "metadata": {
        "id": "kPO6z9Tm14At",
        "colab": {
          "base_uri": "https://localhost:8080/"
        },
        "outputId": "67730877-2122-4177-89ac-973773af9434"
      },
      "outputs": [
        {
          "output_type": "stream",
          "name": "stdout",
          "text": [
            "[LightGBM] [Warning] min_data_in_leaf is set=40, min_child_samples=20 will be ignored. Current value: min_data_in_leaf=40\n",
            "[LightGBM] [Warning] bagging_freq is set=6, subsample_freq=0 will be ignored. Current value: bagging_freq=6\n",
            "[LightGBM] [Warning] feature_fraction is set=0.5183918408374883, colsample_bytree=1.0 will be ignored. Current value: feature_fraction=0.5183918408374883\n",
            "[LightGBM] [Warning] lambda_l2 is set=2.533704222692857e-07, reg_lambda=0.0 will be ignored. Current value: lambda_l2=2.533704222692857e-07\n",
            "[LightGBM] [Warning] lambda_l1 is set=0.013838831287919526, reg_alpha=0.0 will be ignored. Current value: lambda_l1=0.013838831287919526\n",
            "[LightGBM] [Warning] bagging_fraction is set=0.8498576580360917, subsample=1.0 will be ignored. Current value: bagging_fraction=0.8498576580360917\n"
          ]
        },
        {
          "output_type": "execute_result",
          "data": {
            "text/plain": [
              "931"
            ]
          },
          "metadata": {},
          "execution_count": 32
        }
      ],
      "source": [
        "# LightGBM 모델 Test 예측 수행\n",
        "x_test1.drop([\"is_converted\", \"id\"], axis=1, inplace=True)\n",
        "test_pred_lgb = lgb_model.predict(x_test1)\n",
        "sum(test_pred_lgb) # True로 예측된 개수"
      ]
    },
    {
      "cell_type": "code",
      "execution_count": 33,
      "metadata": {
        "id": "lLmfZPrC14At",
        "colab": {
          "base_uri": "https://localhost:8080/",
          "height": 637
        },
        "outputId": "5d15f99e-4a21-4f74-b2cb-ca5ab811d058"
      },
      "outputs": [
        {
          "output_type": "execute_result",
          "data": {
            "text/plain": [
              "<Axes: xlabel='None', ylabel='None'>"
            ]
          },
          "metadata": {},
          "execution_count": 33
        },
        {
          "output_type": "display_data",
          "data": {
            "text/plain": [
              "<Figure size 700x700 with 1 Axes>"
            ],
            "image/png": "[encoded data removed]"
          },
          "metadata": {}
        }
      ],
      "source": [
        "# LightGBM 모델 Feature Importance 시각화\n",
        "lgb_feature_score = pd.Series(lgb_model.feature_importances_, index = x_train1.columns).sort_values(ascending=False)\n",
        "plt.figure(figsize=(7,7))\n",
        "sns.barplot(x = lgb_feature_score, y=lgb_feature_score.index)"
      ]
    },
    {
      "cell_type": "markdown",
      "metadata": {
        "id": "gAmQubsQ14Aw"
      },
      "source": [
        "# Catboost"
      ]
    },
    {
      "cell_type": "code",
      "execution_count": 34,
      "metadata": {
        "id": "gE_iPqqK14Aw"
      },
      "outputs": [],
      "source": [
        "# category type 컬럼 인덱스 저장\n",
        "categorical_features = []\n",
        "for i, col in enumerate(x_train2.columns):\n",
        "    if x_train2[col].dtypes=='category':\n",
        "        categorical_features.append(i)\n",
        "\n",
        "pd.DataFrame.iteritems = pd.DataFrame.items"
      ]
    },
    {
      "cell_type": "code",
      "execution_count": 35,
      "metadata": {
        "id": "8HtuTG0U14Ax"
      },
      "outputs": [],
      "source": [
        "# bool > int 형변환\n",
        "y_train2 = y_train2.astype(int)\n",
        "y_val2 = y_val2.astype(int)"
      ]
    },
    {
      "cell_type": "code",
      "execution_count": 36,
      "metadata": {
        "id": "zxwQimn914Ax"
      },
      "outputs": [],
      "source": [
        "# 클래스 불균형 해결을 위한 class weight 부여\n",
        "classes = np.unique(y_train2)\n",
        "weights = compute_class_weight(class_weight='balanced', classes=classes, y=y_train2)\n",
        "class_weights = dict(zip(classes, weights))"
      ]
    },
    {
      "cell_type": "code",
      "execution_count": 37,
      "metadata": {
        "scrolled": true,
        "id": "zBEEw8tb7lH5",
        "colab": {
          "base_uri": "https://localhost:8080/"
        },
        "outputId": "f946a55d-dea0-4c0e-e194-f41ef170ee16"
      },
      "outputs": [
        {
          "output_type": "stream",
          "name": "stderr",
          "text": [
            "Warning: Overfitting detector is active, thus evaluation metric is calculated on every iteration. 'metric_period' is ignored for evaluation metric.\n"
          ]
        },
        {
          "output_type": "stream",
          "name": "stdout",
          "text": [
            "0:\tlearn: 0.8576566\ttest: 0.8777587\tbest: 0.8777587 (0)\ttotal: 304ms\tremaining: 50m 42s\n",
            "100:\tlearn: 0.9435251\ttest: 0.9541552\tbest: 0.9551108 (90)\ttotal: 11.6s\tremaining: 19m\n",
            "200:\tlearn: 0.9531822\ttest: 0.9576038\tbest: 0.9576038 (197)\ttotal: 24.5s\tremaining: 19m 52s\n",
            "300:\tlearn: 0.9608089\ttest: 0.9594664\tbest: 0.9601342 (299)\ttotal: 37s\tremaining: 19m 51s\n",
            "400:\tlearn: 0.9666146\ttest: 0.9572680\tbest: 0.9606914 (309)\ttotal: 49.6s\tremaining: 19m 48s\n",
            "Stopped by overfitting detector  (100 iterations wait)\n",
            "\n",
            "bestTest = 0.9606913586\n",
            "bestIteration = 309\n",
            "\n",
            "Shrink model to first 310 iterations.\n",
            "오차행렬:\n",
            " [[ 749   27]\n",
            " [ 385 8327]]\n",
            "\n",
            "정확도: 0.9566\n",
            "정밀도: 0.6605\n",
            "재현율: 0.9652\n",
            "F1: 0.7843\n"
          ]
        },
        {
          "output_type": "stream",
          "name": "stderr",
          "text": [
            "Warning: Overfitting detector is active, thus evaluation metric is calculated on every iteration. 'metric_period' is ignored for evaluation metric.\n"
          ]
        },
        {
          "output_type": "stream",
          "name": "stdout",
          "text": [
            "0:\tlearn: 0.8485801\ttest: 0.8688245\tbest: 0.8688245 (0)\ttotal: 102ms\tremaining: 16m 57s\n",
            "100:\tlearn: 0.9464262\ttest: 0.9473125\tbest: 0.9487704 (92)\ttotal: 14.2s\tremaining: 23m 16s\n",
            "200:\tlearn: 0.9565860\ttest: 0.9501371\tbest: 0.9502898 (160)\ttotal: 26.8s\tremaining: 21m 48s\n",
            "300:\tlearn: 0.9624528\ttest: 0.9483291\tbest: 0.9516850 (231)\ttotal: 39.5s\tremaining: 21m 12s\n",
            "Stopped by overfitting detector  (100 iterations wait)\n",
            "\n",
            "bestTest = 0.9516850183\n",
            "bestIteration = 231\n",
            "\n",
            "Shrink model to first 232 iterations.\n",
            "오차행렬:\n",
            " [[ 739   37]\n",
            " [ 427 8285]]\n",
            "\n",
            "정확도: 0.9511\n",
            "정밀도: 0.6338\n",
            "재현율: 0.9523\n",
            "F1: 0.7611\n"
          ]
        },
        {
          "output_type": "stream",
          "name": "stderr",
          "text": [
            "Warning: Overfitting detector is active, thus evaluation metric is calculated on every iteration. 'metric_period' is ignored for evaluation metric.\n"
          ]
        },
        {
          "output_type": "stream",
          "name": "stdout",
          "text": [
            "0:\tlearn: 0.8482404\ttest: 0.8643950\tbest: 0.8643950 (0)\ttotal: 109ms\tremaining: 18m 6s\n",
            "100:\tlearn: 0.9454958\ttest: 0.9506490\tbest: 0.9506490 (93)\ttotal: 12.5s\tremaining: 20m 25s\n",
            "200:\tlearn: 0.9559842\ttest: 0.9536367\tbest: 0.9536367 (200)\ttotal: 25.1s\tremaining: 20m 21s\n",
            "300:\tlearn: 0.9622053\ttest: 0.9534366\tbest: 0.9559211 (284)\ttotal: 36.8s\tremaining: 19m 46s\n",
            "Stopped by overfitting detector  (100 iterations wait)\n",
            "\n",
            "bestTest = 0.9559210578\n",
            "bestIteration = 284\n",
            "\n",
            "Shrink model to first 285 iterations.\n",
            "오차행렬:\n",
            " [[ 740   36]\n",
            " [ 362 8350]]\n",
            "\n",
            "정확도: 0.9581\n",
            "정밀도: 0.6715\n",
            "재현율: 0.9536\n",
            "F1: 0.7881\n"
          ]
        },
        {
          "output_type": "stream",
          "name": "stderr",
          "text": [
            "Warning: Overfitting detector is active, thus evaluation metric is calculated on every iteration. 'metric_period' is ignored for evaluation metric.\n"
          ]
        },
        {
          "output_type": "stream",
          "name": "stdout",
          "text": [
            "0:\tlearn: 0.8492125\ttest: 0.8427498\tbest: 0.8427498 (0)\ttotal: 112ms\tremaining: 18m 37s\n",
            "100:\tlearn: 0.9464665\ttest: 0.9282712\tbest: 0.9289200 (96)\ttotal: 12.6s\tremaining: 20m 30s\n",
            "200:\tlearn: 0.9565179\ttest: 0.9339651\tbest: 0.9372359 (177)\ttotal: 25.1s\tremaining: 20m 21s\n",
            "300:\tlearn: 0.9634480\ttest: 0.9357169\tbest: 0.9378686 (289)\ttotal: 37.8s\tremaining: 20m 17s\n",
            "400:\tlearn: 0.9684913\ttest: 0.9408561\tbest: 0.9409111 (396)\ttotal: 50.8s\tremaining: 20m 14s\n",
            "Stopped by overfitting detector  (100 iterations wait)\n",
            "\n",
            "bestTest = 0.9409111339\n",
            "bestIteration = 396\n",
            "\n",
            "Shrink model to first 397 iterations.\n",
            "오차행렬:\n",
            " [[ 716   60]\n",
            " [ 336 8376]]\n",
            "\n",
            "정확도: 0.9583\n",
            "정밀도: 0.6806\n",
            "재현율: 0.9227\n",
            "F1: 0.7834\n"
          ]
        },
        {
          "output_type": "stream",
          "name": "stderr",
          "text": [
            "Warning: Overfitting detector is active, thus evaluation metric is calculated on every iteration. 'metric_period' is ignored for evaluation metric.\n"
          ]
        },
        {
          "output_type": "stream",
          "name": "stdout",
          "text": [
            "0:\tlearn: 0.8390930\ttest: 0.8544797\tbest: 0.8544797 (0)\ttotal: 109ms\tremaining: 18m 12s\n",
            "100:\tlearn: 0.9469637\ttest: 0.9453564\tbest: 0.9465023 (76)\ttotal: 11.7s\tremaining: 19m 7s\n",
            "200:\tlearn: 0.9558326\ttest: 0.9519537\tbest: 0.9524855 (168)\ttotal: 23.3s\tremaining: 18m 57s\n",
            "300:\tlearn: 0.9616484\ttest: 0.9519141\tbest: 0.9536192 (246)\ttotal: 36.1s\tremaining: 19m 23s\n",
            "Stopped by overfitting detector  (100 iterations wait)\n",
            "\n",
            "bestTest = 0.9536191878\n",
            "bestIteration = 246\n",
            "\n",
            "Shrink model to first 247 iterations.\n",
            "오차행렬:\n",
            " [[ 737   39]\n",
            " [ 367 8344]]\n",
            "\n",
            "정확도: 0.9572\n",
            "정밀도: 0.6676\n",
            "재현율: 0.9497\n",
            "F1: 0.7840\n"
          ]
        }
      ],
      "source": [
        "# Stratified K-Fold 교차 검증 수행\n",
        "fold = 5\n",
        "skf = StratifiedKFold(n_splits=fold, shuffle=True, random_state=SEED)\n",
        "test_preds = np.zeros(x_test2.shape[0])\n",
        "val_preds = np.zeros(x_val2.shape[0])\n",
        "feature_importances = np.zeros(x_train2.shape[1])\n",
        "\n",
        "for train_index, valid_index in skf.split(x_train2, y_train2):\n",
        "    X_train, X_valid = x_train2.iloc[train_index], x_train2.iloc[valid_index]\n",
        "    Y_train, Y_valid = y_train2.iloc[train_index], y_train2.iloc[valid_index]\n",
        "\n",
        "    Y_train = Y_train.astype('int')\n",
        "    Y_valid = Y_valid.astype('int')\n",
        "\n",
        "    ctb_model = CatBoostClassifier(n_estimators = 10000, # 트리 개수\n",
        "                            learning_rate =  0.07, # 학습률\n",
        "                            eval_metric = 'F1', # 평가 지표 설정\n",
        "                            loss_function = 'Logloss', # 손실 함수 설정\n",
        "                            random_seed = SEED,\n",
        "                            metric_period = 100,\n",
        "                            class_weights = class_weights,\n",
        "                            od_wait = 100, # early stopping round\n",
        "                            depth =  6, # 트리 최고 깊이\n",
        "                            rsm = 0.8, # 피처 샘플링 비율\n",
        "                            cat_features=categorical_features)\n",
        "\n",
        "    ctb_model.fit(X_train,Y_train, eval_set=[(X_valid,Y_valid)])\n",
        "\n",
        "    # Feature Importance 평균\n",
        "    feature_importances += (ctb_model.get_feature_importance()/fold)\n",
        "\n",
        "    # stratifiedkfold val에 대한 예측\n",
        "    y_pred = ctb_model.predict_proba(X_valid)[:,1] # skf val 예측\n",
        "    y_pred = np.where(y_pred >= 0.5, True, False)\n",
        "    # 성능 확인\n",
        "    get_clf_eval(Y_valid, y_pred)\n",
        "\n",
        "    val_preds += (ctb_model.predict_proba(x_val2)[:,1] / fold) # val 예측 확률 평균\n",
        "    test_preds += (ctb_model.predict_proba(x_test2[ctb_model.feature_names_])[:,1] / fold) # test 예측 확률 평균"
      ]
    },
    {
      "cell_type": "code",
      "execution_count": 38,
      "metadata": {
        "scrolled": true,
        "id": "quXtZLoC7lH5",
        "colab": {
          "base_uri": "https://localhost:8080/"
        },
        "outputId": "1c23996f-e7d4-4651-c774-3c654ec79235"
      },
      "outputs": [
        {
          "output_type": "stream",
          "name": "stdout",
          "text": [
            "오차행렬:\n",
            " [[  907    63]\n",
            " [  454 10436]]\n",
            "\n",
            "정확도: 0.9564\n",
            "정밀도: 0.6664\n",
            "재현율: 0.9351\n",
            "F1: 0.7782\n"
          ]
        }
      ],
      "source": [
        "# Catboost 모델 오차 행렬\n",
        "y_val_pred = np.where(val_preds>=0.5, 1, 0)\n",
        "get_clf_eval(y_val2, y_val_pred)"
      ]
    },
    {
      "cell_type": "code",
      "execution_count": 39,
      "metadata": {
        "id": "45MJZUUt7lH6",
        "colab": {
          "base_uri": "https://localhost:8080/"
        },
        "outputId": "cf3257ac-3c5a-490e-e78f-a2a9753a3420"
      },
      "outputs": [
        {
          "output_type": "execute_result",
          "data": {
            "text/plain": [
              "1829"
            ]
          },
          "metadata": {},
          "execution_count": 39
        }
      ],
      "source": [
        "# Catboost 모델 Test 데이터에 대해 True로 예측된 개수\n",
        "test_pred = np.where(test_preds>=0.5, 1, 0).astype('bool')\n",
        "sum(test_pred)"
      ]
    },
    {
      "cell_type": "code",
      "execution_count": 40,
      "metadata": {
        "id": "hZwQPnVh14Ay",
        "colab": {
          "base_uri": "https://localhost:8080/",
          "height": 0
        },
        "outputId": "defdd57d-2479-4f07-94f2-830e9ea322ff"
      },
      "outputs": [
        {
          "output_type": "execute_result",
          "data": {
            "text/plain": [
              "<Axes: xlabel='None', ylabel='None'>"
            ]
          },
          "metadata": {},
          "execution_count": 40
        },
        {
          "output_type": "display_data",
          "data": {
            "text/plain": [
              "<Figure size 700x700 with 1 Axes>"
            ],
            "image/png": "[encoded data removed]"
          },
          "metadata": {}
        }
      ],
      "source": [
        "# Catboost 모델 Feature importance 시각화\n",
        "ctb_feature_score = pd.Series(feature_importances, index = x_train2.columns).sort_values(ascending=False)\n",
        "plt.figure(figsize=(7,7))\n",
        "sns.barplot(x = ctb_feature_score, y=ctb_feature_score.index)"
      ]
    },
    {
      "cell_type": "markdown",
      "metadata": {
        "id": "DgJXJqvK14A1"
      },
      "source": [
        "# lgbm+ctb 확률"
      ]
    },
    {
      "cell_type": "code",
      "execution_count": 41,
      "metadata": {
        "id": "dlxxWU9t14A1",
        "colab": {
          "base_uri": "https://localhost:8080/"
        },
        "outputId": "d722a2f9-1130-40ae-97b8-3195cea40ee6"
      },
      "outputs": [
        {
          "output_type": "stream",
          "name": "stdout",
          "text": [
            "[LightGBM] [Warning] min_data_in_leaf is set=40, min_child_samples=20 will be ignored. Current value: min_data_in_leaf=40\n",
            "[LightGBM] [Warning] bagging_freq is set=6, subsample_freq=0 will be ignored. Current value: bagging_freq=6\n",
            "[LightGBM] [Warning] feature_fraction is set=0.5183918408374883, colsample_bytree=1.0 will be ignored. Current value: feature_fraction=0.5183918408374883\n",
            "[LightGBM] [Warning] lambda_l2 is set=2.533704222692857e-07, reg_lambda=0.0 will be ignored. Current value: lambda_l2=2.533704222692857e-07\n",
            "[LightGBM] [Warning] lambda_l1 is set=0.013838831287919526, reg_alpha=0.0 will be ignored. Current value: lambda_l1=0.013838831287919526\n",
            "[LightGBM] [Warning] bagging_fraction is set=0.8498576580360917, subsample=1.0 will be ignored. Current value: bagging_fraction=0.8498576580360917\n"
          ]
        }
      ],
      "source": [
        "lgb_val = lgb_model.predict_proba(x_val1)[:,1] # LightGBM의 validation에 대한 예측값\n",
        "ctb_val = val_preds # Catboost의 validation에 대한 예측값\n",
        "\n",
        "# recall이 높은 catboost에 더 가중치주어 새로운 확률 생성\n",
        "# 비율 LightGBM : Catboost = 3 : 7\n",
        "prob_val = (0.3 * lgb_val + 0.7 * ctb_val)"
      ]
    },
    {
      "cell_type": "code",
      "execution_count": 42,
      "metadata": {
        "id": "kgd6c6-N14A1",
        "colab": {
          "base_uri": "https://localhost:8080/"
        },
        "outputId": "5adafe81-9495-4504-f321-7d160ee14526"
      },
      "outputs": [
        {
          "output_type": "stream",
          "name": "stdout",
          "text": [
            "오차행렬:\n",
            " [[  910    60]\n",
            " [  446 10444]]\n",
            "\n",
            "정확도: 0.9573\n",
            "정밀도: 0.6711\n",
            "재현율: 0.9381\n",
            "F1: 0.7825\n"
          ]
        }
      ],
      "source": [
        "# recall을 높이기 위해 임계치 0.4로 낮춤\n",
        "val_pred40 = np.where(prob_val>=0.4, 1, 0)\n",
        "\n",
        "# val 성능\n",
        "get_clf_eval(y_val, val_pred40)"
      ]
    },
    {
      "cell_type": "code",
      "execution_count": 43,
      "metadata": {
        "id": "MzxgI83-14A3",
        "colab": {
          "base_uri": "https://localhost:8080/"
        },
        "outputId": "ffcdcd45-e76a-4a31-fa50-37a97df668b3"
      },
      "outputs": [
        {
          "output_type": "stream",
          "name": "stdout",
          "text": [
            "[LightGBM] [Warning] min_data_in_leaf is set=40, min_child_samples=20 will be ignored. Current value: min_data_in_leaf=40\n",
            "[LightGBM] [Warning] bagging_freq is set=6, subsample_freq=0 will be ignored. Current value: bagging_freq=6\n",
            "[LightGBM] [Warning] feature_fraction is set=0.5183918408374883, colsample_bytree=1.0 will be ignored. Current value: feature_fraction=0.5183918408374883\n",
            "[LightGBM] [Warning] lambda_l2 is set=2.533704222692857e-07, reg_lambda=0.0 will be ignored. Current value: lambda_l2=2.533704222692857e-07\n",
            "[LightGBM] [Warning] lambda_l1 is set=0.013838831287919526, reg_alpha=0.0 will be ignored. Current value: lambda_l1=0.013838831287919526\n",
            "[LightGBM] [Warning] bagging_fraction is set=0.8498576580360917, subsample=1.0 will be ignored. Current value: bagging_fraction=0.8498576580360917\n"
          ]
        }
      ],
      "source": [
        "# test 예측\n",
        "lgb_test = lgb_model.predict_proba(x_test1)[:,1]\n",
        "ctb_test = test_preds\n",
        "\n",
        "# test에 대한 확률값\n",
        "prob_test = (0.3 * lgb_test + 0.7 * ctb_test)"
      ]
    },
    {
      "cell_type": "code",
      "execution_count": 44,
      "metadata": {
        "id": "RTld2CWq14A3",
        "colab": {
          "base_uri": "https://localhost:8080/"
        },
        "outputId": "34d57312-2f60-4ace-cf44-5a52dda9b5d3"
      },
      "outputs": [
        {
          "output_type": "execute_result",
          "data": {
            "text/plain": [
              "1769"
            ]
          },
          "metadata": {},
          "execution_count": 44
        }
      ],
      "source": [
        "# 임계값 0.4로 낮춤\n",
        "test_pred40 = np.where(prob_test>=0.4, 1, 0)\n",
        "\n",
        "sum(test_pred40) # True로 예측된 개수"
      ]
    },
    {
      "cell_type": "code",
      "execution_count": 45,
      "metadata": {
        "id": "u8z0Sljb14A5"
      },
      "outputs": [],
      "source": [
        "# 제출 데이터 읽어오기 (df_test는 전처리된 데이터가 저장됨)\n",
        "df_sub = pd.read_csv(\"/content/drive/MyDrive/LG Aimers/submission.csv\")\n",
        "df_sub[\"is_converted\"] = test_pred40\n",
        "\n",
        "# 제출 파일 저장\n",
        "df_sub.to_csv(\"submission.csv\", index=False)"
      ]
    }
  ],
  "metadata": {
    "colab": {
      "collapsed_sections": [
        "sHkWZQeLuE70"
      ],
      "provenance": []
    },
    "kernelspec": {
      "display_name": "Python 3 (ipykernel)",
      "language": "python",
      "name": "python3"
    },
    "language_info": {
      "codemirror_mode": {
        "name": "ipython",
        "version": 3
      },
      "file_extension": ".py",
      "mimetype": "text/x-python",
      "name": "python",
      "nbconvert_exporter": "python",
      "pygments_lexer": "ipython3",
      "version": "3.8.18"
    }
  },
  "nbformat": 4,
  "nbformat_minor": 0
}